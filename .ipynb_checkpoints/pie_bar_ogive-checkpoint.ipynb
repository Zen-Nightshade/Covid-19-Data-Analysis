{
 "cells": [
  {
   "cell_type": "code",
   "execution_count": null,
   "id": "d6eab8f0-0ebc-407a-ba98-32496938de10",
   "metadata": {},
   "outputs": [],
   "source": [
    "import csv\n",
    "import matplotlib.pyplot as plt\n",
    "import numpy as np\n",
    "import pandas as pd\n",
    "import random\n",
    "from sklearn.neighbors import NearestNeighbors"
   ]
  },
  {
   "cell_type": "code",
   "execution_count": null,
   "id": "42250645-d6b3-47d6-958e-bc0c9a05ebfb",
   "metadata": {},
   "outputs": [],
   "source": [
    "y={}\n",
    "with open(\"processed_train_data.csv\", \"r\") as file:\n",
    "    content = csv.reader(file)\n",
    "\n",
    "    next(content)\n",
    "    for line in content:\n",
    "        \n",
    "        # print(x1,x2,x3,x4,x5,x6,x7,x8)\n",
    "        x.append(np.array([x1,x2,x3,x4,x5,x6,x7,x8]))"
   ]
  },
  {
   "cell_type": "code",
   "execution_count": null,
   "id": "883cb762-deec-4d21-b473-64372cebb2c6",
   "metadata": {},
   "outputs": [],
   "source": []
  }
 ],
 "metadata": {
  "kernelspec": {
   "display_name": "Python 3 (ipykernel)",
   "language": "python",
   "name": "python3"
  },
  "language_info": {
   "codemirror_mode": {
    "name": "ipython",
    "version": 3
   },
   "file_extension": ".py",
   "mimetype": "text/x-python",
   "name": "python",
   "nbconvert_exporter": "python",
   "pygments_lexer": "ipython3",
   "version": "3.12.5"
  }
 },
 "nbformat": 4,
 "nbformat_minor": 5
}
