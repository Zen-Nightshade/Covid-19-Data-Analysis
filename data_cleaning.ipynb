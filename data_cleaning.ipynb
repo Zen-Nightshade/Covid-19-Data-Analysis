{
 "cells": [
  {
   "cell_type": "code",
   "execution_count": 3,
   "id": "93a07972-b744-4d34-8ca7-3b9ae395f1a4",
   "metadata": {},
   "outputs": [],
   "source": [
    "import csv\n",
    "import matplotlib.pyplot as plt\n",
    "import numpy as np\n",
    "import pandas as pd\n",
    "import random\n",
    "from sklearn.neighbors import NearestNeighbors"
   ]
  },
  {
   "cell_type": "code",
   "execution_count": 2,
   "id": "e40ad442-2a42-40da-a5e8-173afaba7855",
   "metadata": {},
   "outputs": [],
   "source": [
    "df = pd.read_csv('WHO-COVID-19-global-table-data (1).csv')\n",
    "\n",
    "\n",
    "# Remove the first column\n",
    "# df_filled = df_filled.drop(df_filled.columns[0], axis=1)\n",
    "\n",
    "# Save the cleaned dataset to a new CSV file\n",
    "# df_filled.to_csv('training_dataset.csv', index=False)\n",
    "df = df.drop(columns=['Cases - newly reported in last 7 days','Cases - newly reported in last 7 days per 100000 population','Cases - newly reported in last 24 hours','Deaths - newly reported in last 7 days','Deaths - newly reported in last 7 days per 100000 population','Deaths - newly reported in last 24 hours'])\n",
    "df_filled = df.fillna(0)\n",
    "# df['Gender'] = df['Gender'].astype('category').cat.codes\n",
    "# df.drop_duplicates(inplace = True)\n",
    "# print(df.to_string()) \n",
    "# print(df.isnull().sum()) \n",
    "# print(\"------------------------------------------------\")\n",
    "# df = df.dropna(subset=['Fare'])\n",
    "# df['Embarked'] = df['Embarked'].astype('category').cat.codes\n",
    "# df.replace('', pd.NA, inplace=True) \n",
    "# print(df.isna().sum())\n",
    "# df['Ticket'] = df['Ticket'].str.extract(r'(\\d+)(?!.*\\d)')\n",
    "# print(df.to_string()) \n",
    "# print(\"------------------------------------------------\")\n",
    "# removed_data = df[df.isna().any(axis=1)]  # Select rows with any NaN\n",
    "# cleaned_data = df.dropna()  # Remove rows with NaN\n",
    "# print(\"Total rows after:\", len(cleaned_data))\n",
    "# cleaned_data.to_csv('Processed_data.csv', index=False)\n",
    "# removed_data.to_csv('missing_data.csv', index=False)\n",
    "# # print(cleaned_data.to_string())\n",
    "df_filled.to_csv('Cumulative_WHO_data.csv', index=False)"
   ]
  },
  {
   "cell_type": "code",
   "execution_count": 5,
   "id": "7da68781-8036-4e20-8e0d-7c7e0038a95b",
   "metadata": {},
   "outputs": [
    {
     "name": "stdout",
     "output_type": "stream",
     "text": [
      "clean = 7067 \n",
      "percentage = 70.67 %\n",
      "removed = 2933 \n",
      "percentage = 29.33 %\n"
     ]
    }
   ],
   "source": [
    "c= (len(cleaned_data))\n",
    "r= (len(removed_data))\n",
    "print(\"clean =\",c,\"\\npercentage =\",100*c/(r+c),\"%\")\n",
    "print(\"removed =\", r,\"\\npercentage =\",100*r/(r+c),\"%\")"
   ]
  },
  {
   "cell_type": "code",
   "execution_count": 23,
   "id": "80fae978-9ffd-4bdb-aabd-740321c688ba",
   "metadata": {},
   "outputs": [],
   "source": [
    "data = []\n",
    "with open(\"Processed_data.csv\",\"r\") as file:\n",
    "    content = csv.reader(file)\n",
    "\n",
    "    i=0\n",
    "    for line in content:\n",
    "        if i==0:\n",
    "            data.append(line)\n",
    "            i += 1\n",
    "            continue\n",
    "        x0  = float(line[0])     #Age\n",
    "        x1  = line[1]          #Gender\n",
    "        x2  = int(float(line[2]))     #Blood_Pressure\n",
    "        x3  = int(float(line[3]))     #Cholesterol_Level\n",
    "        x4  = line[4]          #Exercise_Habits\n",
    "        x5  = line[5]          #Smoking\n",
    "        x6  = line[6]          #Family_Heart_disease\n",
    "        x7  = line[7]          #Diabetes\n",
    "        x8  = float(line[8])   #BMI\n",
    "        x9  = line[9]          #High_Blood_pressure\n",
    "        x10 = line[10]          #Low_HDL_cholesterol\n",
    "        x11 = line[11]          #High_LDL_cholesterol\n",
    "        x12 = line[12]          #Alcohol_Consumption\n",
    "        x13 = line[13]          #Stress_Level\n",
    "        x14 = float(line[14])   #Sleep_Hours\n",
    "        x15 = line[15]          #Sugar_Consumptions\n",
    "        x16 = int(float(line[16]))     #Triglyceride_Level\n",
    "        x17 = int(float(line[17]))     #Fast_BLood_Sugar\n",
    "        x18 = float(line[18])   #CRP_Level\n",
    "        x19 = float(line[19])   #Homocysteine_Level\n",
    "        x20 = line[20]     #Heart_disease_status\n",
    "        #=======================================#\n",
    "        x0  = int(x0)\n",
    "        x8  = round(x8,1)#BMI\n",
    "        x14 = float(round(2*x14))/2 #Sleep_Hours\n",
    "        x18 = round(x18,2)   #CRP_Level\n",
    "        x19 = round(x19,1)   #Homocysteine_Level\n",
    "    \n",
    "        data.append(np.array([x0,x1,x2,x3,x4,x5,x6,x7,x8,x9,x10,x11,x12,x13,x14,x15,x16,x17,x18,x19,x20]))\n"
   ]
  },
  {
   "cell_type": "code",
   "execution_count": null,
   "id": "f0ee0c6c-1942-487d-8923-da2bc91709a3",
   "metadata": {},
   "outputs": [],
   "source": [
    "i=0\n",
    "for line in data:\n",
    "    print(line[0])        \n",
    "          \n",
    "    "
   ]
  },
  {
   "cell_type": "code",
   "execution_count": 25,
   "id": "1fbc60c7-4b5f-449f-b172-1fce677f51f1",
   "metadata": {},
   "outputs": [],
   "source": [
    "with open(\"Processed_data.csv\",\"w\") as file:\n",
    "    writer = csv.writer(file)\n",
    "    writer.writerows(data)"
   ]
  },
  {
   "cell_type": "code",
   "execution_count": 4,
   "id": "8e7a37c8-ffa7-4a6c-aaa7-e0129ac0fea5",
   "metadata": {},
   "outputs": [
    {
     "name": "stderr",
     "output_type": "stream",
     "text": [
      "/tmp/ipykernel_3834/769582495.py:5: MatplotlibDeprecationWarning: The 'labels' parameter of boxplot() has been renamed 'tick_labels' since Matplotlib 3.9; support for the old name will be dropped in 3.11.\n",
      "  plt.boxplot(data, labels=[\"Category A\", \"Category B\"])\n"
     ]
    },
    {
     "data": {
      "image/png": "[encoded data removed]",
      "text/plain": [
       "<Figure size 640x480 with 1 Axes>"
      ]
     },
     "metadata": {},
     "output_type": "display_data"
    }
   ],
   "source": [
    "data = [[12, 15, 14, 10, 9, 20, 22, 24, 18, 25, 30, 35, 40, 42], \n",
    "        [8, 12, 18, 15, 22, 28, 30, 25, 26, 31, 34, 39, 42, 45]]\n",
    "\n",
    "# Create box plot\n",
    "plt.boxplot(data, labels=[\"Category A\", \"Category B\"])\n",
    "\n",
    "# Labels and title\n",
    "plt.xlabel(\"Categories\")\n",
    "plt.ylabel(\"Values\")\n",
    "plt.title(\"Box Plot using Matplotlib\")\n",
    "\n",
    "# Show the plot\n",
    "plt.show()"
   ]
  },
  {
   "cell_type": "code",
   "execution_count": null,
   "id": "ec786f01-37bd-48ac-afdc-79699dc09c5d",
   "metadata": {},
   "outputs": [],
   "source": []
  }
 ],
 "metadata": {
  "kernelspec": {
   "display_name": "Python (sklearn_env)",
   "language": "python",
   "name": "sklearn_env"
  },
  "language_info": {
   "codemirror_mode": {
    "name": "ipython",
    "version": 3
   },
   "file_extension": ".py",
   "mimetype": "text/x-python",
   "name": "python",
   "nbconvert_exporter": "python",
   "pygments_lexer": "ipython3",
   "version": "3.12.3"
  }
 },
 "nbformat": 4,
 "nbformat_minor": 5
}
